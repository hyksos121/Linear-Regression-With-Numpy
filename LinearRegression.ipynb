{
 "cells": [
  {
   "cell_type": "code",
   "execution_count": 2,
   "metadata": {},
   "outputs": [],
   "source": [
    "# All required libraries\n",
    "import pandas as pd\n",
    "import matplotlib.pyplot as plt\n",
    "import numpy as np\n",
    "single_variable_data = \"ex1data1.txt\"\n",
    "multi_variable_data = \"ex1data2.txt\""
   ]
  },
  {
   "cell_type": "markdown",
   "metadata": {},
   "source": [
    "## Part I: (Linear Regression with One Variable)"
   ]
  },
  {
   "cell_type": "markdown",
   "metadata": {},
   "source": [
    "### 1) Importing and visualising data with pandas"
   ]
  },
  {
   "cell_type": "code",
   "execution_count": 3,
   "metadata": {},
   "outputs": [
    {
     "data": {
      "text/html": [
       "<div>\n",
       "<style scoped>\n",
       "    .dataframe tbody tr th:only-of-type {\n",
       "        vertical-align: middle;\n",
       "    }\n",
       "\n",
       "    .dataframe tbody tr th {\n",
       "        vertical-align: top;\n",
       "    }\n",
       "\n",
       "    .dataframe thead th {\n",
       "        text-align: right;\n",
       "    }\n",
       "</style>\n",
       "<table border=\"1\" class=\"dataframe\">\n",
       "  <thead>\n",
       "    <tr style=\"text-align: right;\">\n",
       "      <th></th>\n",
       "      <th>Population</th>\n",
       "      <th>Profit</th>\n",
       "    </tr>\n",
       "  </thead>\n",
       "  <tbody>\n",
       "    <tr>\n",
       "      <th>0</th>\n",
       "      <td>6.1101</td>\n",
       "      <td>17.5920</td>\n",
       "    </tr>\n",
       "    <tr>\n",
       "      <th>1</th>\n",
       "      <td>5.5277</td>\n",
       "      <td>9.1302</td>\n",
       "    </tr>\n",
       "    <tr>\n",
       "      <th>2</th>\n",
       "      <td>8.5186</td>\n",
       "      <td>13.6620</td>\n",
       "    </tr>\n",
       "  </tbody>\n",
       "</table>\n",
       "</div>"
      ],
      "text/plain": [
       "   Population   Profit\n",
       "0      6.1101  17.5920\n",
       "1      5.5277   9.1302\n",
       "2      8.5186  13.6620"
      ]
     },
     "execution_count": 3,
     "metadata": {},
     "output_type": "execute_result"
    }
   ],
   "source": [
    "sv_data = pd.read_csv(single_variable_data, header = None) # Loading data into a dataframe with Pandas\n",
    "sv_data.columns = [\"Population\", \"Profit\"] # Defining header\n",
    "\n",
    "n = 3\n",
    "\n",
    "sv_data.tail(n) # Gives last n rows from table (5 if uninitialized)\n",
    "\n",
    "sv_data.sample(n) # Gives n random rows from table (5 if uninitialized)\n",
    "\n",
    "sv_data.head(n) # Gives first n values from table (5 if uninitialized)"
   ]
  },
  {
   "cell_type": "markdown",
   "metadata": {},
   "source": [
    "### 2) Plotting our data"
   ]
  },
  {
   "cell_type": "code",
   "execution_count": 4,
   "metadata": {},
   "outputs": [
    {
     "name": "stdout",
     "output_type": "stream",
     "text": [
      "First 5 X vals:\n",
      "0    6.1101\n",
      "1    5.5277\n",
      "2    8.5186\n",
      "3    7.0032\n",
      "4    5.8598\n",
      "Name: Population, dtype: float64\n",
      "\n",
      "\n",
      "First 5 Y vals:\n",
      "0    17.5920\n",
      "1     9.1302\n",
      "2    13.6620\n",
      "3    11.8540\n",
      "4     6.8233\n",
      "Name: Profit, dtype: float64\n"
     ]
    }
   ],
   "source": [
    "#Defining x and y values\n",
    "x_vals = sv_data[\"Population\"] \n",
    "y_vals = sv_data[\"Profit\"]\n",
    "\n",
    "print(\"First 5 X vals:\")\n",
    "print(x_vals[:5])\n",
    "\n",
    "print(\"\\n\\nFirst 5 Y vals:\")\n",
    "print(y_vals[:5])"
   ]
  },
  {
   "cell_type": "code",
   "execution_count": 5,
   "metadata": {},
   "outputs": [
    {
     "data": {
      "image/png": "[encoded data removed]",
      "text/plain": [
       "<Figure size 432x288 with 1 Axes>"
      ]
     },
     "metadata": {
      "needs_background": "light"
     },
     "output_type": "display_data"
    }
   ],
   "source": [
    "plt.scatter(x_vals, y_vals, s= 25, c= 'red', marker= 'x', linewidths= .75)\n",
    "\n",
    "plt.xlabel(\"Population\")\n",
    "plt.ylabel(\"Profits\")\n",
    "plt.show()"
   ]
  },
  {
   "cell_type": "markdown",
   "metadata": {},
   "source": [
    "### 3) Implementing Linear Regression Algorithm"
   ]
  },
  {
   "cell_type": "code",
   "execution_count": 6,
   "metadata": {},
   "outputs": [],
   "source": [
    "def costFunction(theta, x_arr, y_arr):\n",
    "    m = y_arr.size\n",
    "    h = theta[0] + (theta[1]*x_arr)\n",
    "    prediction = np.sum(np.power(h - y_arr, 2))\n",
    "    return (1/(2*m)) * prediction"
   ]
  },
  {
   "cell_type": "code",
   "execution_count": 7,
   "metadata": {},
   "outputs": [],
   "source": [
    "def gradientDecent(theta, x_arr, y_arr, alpha, iterations):\n",
    "    m = y_arr.size\n",
    "    cost_history = []\n",
    "    \n",
    "    for i in range(iterations):\n",
    "        prediction = theta[0] + (theta[1]*x_arr)\n",
    "        prediction = prediction.reshape((m,1))\n",
    "\n",
    "        t0 = theta[0] - (1/m)*alpha * np.sum(prediction - y_arr)\n",
    "        t1 = theta[1] - (1/m)*alpha * np.sum(x_arr.T.dot(prediction - y_arr))\n",
    "        \n",
    "        cost = costFunction(theta, x_arr, y_arr)\n",
    "        cost_history.append(cost)\n",
    "\n",
    "        theta[0] = t0\n",
    "        theta[1] = t1\n",
    "    \n",
    "    return theta, cost_history"
   ]
  },
  {
   "cell_type": "code",
   "execution_count": 8,
   "metadata": {},
   "outputs": [
    {
     "name": "stdout",
     "output_type": "stream",
     "text": [
      "Theta Matrix:\n",
      "(2, 1)\n",
      "[[1.]\n",
      " [1.]]\n",
      "\n",
      "First 5 X values\n",
      "(97, 1)\n",
      "[[6.1101]\n",
      " [5.5277]\n",
      " [8.5186]\n",
      " [7.0032]\n",
      " [5.8598]]\n",
      "\n",
      "\n",
      "First 5 Y values\n",
      "(97, 1)\n",
      "[[17.592 ]\n",
      " [ 9.1302]\n",
      " [13.662 ]\n",
      " [11.854 ]\n",
      " [ 6.8233]]\n"
     ]
    }
   ],
   "source": [
    "#Initializing theta values\n",
    "theta = np.ones((2,1))\n",
    "print(\"Theta Matrix:\")\n",
    "print(theta.shape)\n",
    "print(theta)\n",
    "print()\n",
    "\n",
    "#Initializing X variable array \n",
    "x_arr = np.array(sv_data[\"Population\"])\n",
    "x_arr = x_arr.reshape(np.size(x_arr), 1)\n",
    "print(\"First 5 X values\")\n",
    "print(x_arr.shape)\n",
    "print(x_arr[:5])\n",
    "print('\\n')\n",
    "\n",
    "#Initializing Y variable array\n",
    "y_arr = np.array(sv_data[\"Profit\"])\n",
    "y_arr = y_arr.reshape(y_arr.size, 1)\n",
    "print(\"First 5 Y values\")\n",
    "print(y_arr.shape)\n",
    "print(y_arr[:5])"
   ]
  },
  {
   "cell_type": "code",
   "execution_count": 9,
   "metadata": {},
   "outputs": [
    {
     "name": "stdout",
     "output_type": "stream",
     "text": [
      "Theta 0: -3.895780878311793\n",
      "Theta 1: 1.1930336441895875\n",
      "Final Cost: 4.476971375975179\n"
     ]
    },
    {
     "data": {
      "image/png": "[encoded data removed]",
      "text/plain": [
       "<Figure size 432x288 with 1 Axes>"
      ]
     },
     "metadata": {
      "needs_background": "light"
     },
     "output_type": "display_data"
    }
   ],
   "source": [
    "iterations = 100000\n",
    "learning_rate = .02\n",
    "\n",
    "theta, cost_history = gradientDecent(theta, x_arr, y_arr, learning_rate, iterations)\n",
    "print(\"Theta 0: \" + str(theta[0][0]))\n",
    "print(\"Theta 1: \" + str(theta[1][0]))\n",
    "print(\"Final Cost: \" + str(cost_history[-1]))\n",
    "\n",
    "plt.plot(np.arange(1,iterations + 1), cost_history)\n",
    "plt.show()"
   ]
  },
  {
   "cell_type": "code",
   "execution_count": 10,
   "metadata": {},
   "outputs": [
    {
     "data": {
      "image/png": "[encoded data removed]",
      "text/plain": [
       "<Figure size 432x288 with 1 Axes>"
      ]
     },
     "metadata": {
      "needs_background": "light"
     },
     "output_type": "display_data"
    }
   ],
   "source": [
    "#plotting our linear regression model\n",
    "\n",
    "x_test = np.linspace(x_arr.min(), x_arr.max(), 100)\n",
    "y_test = theta[0] + theta[1]*x_test\n",
    "\n",
    "plt.plot(x_test, y_test)\n",
    "plt.scatter(x_vals, y_vals, s= 25, c= 'red', marker= 'x', linewidths= .80)\n",
    "plt.show()"
   ]
  },
  {
   "cell_type": "markdown",
   "metadata": {},
   "source": [
    "## Part II (Multi-Variable Linear Regression)"
   ]
  },
  {
   "cell_type": "code",
   "execution_count": 22,
   "metadata": {},
   "outputs": [
    {
     "data": {
      "text/html": [
       "<div>\n",
       "<style scoped>\n",
       "    .dataframe tbody tr th:only-of-type {\n",
       "        vertical-align: middle;\n",
       "    }\n",
       "\n",
       "    .dataframe tbody tr th {\n",
       "        vertical-align: top;\n",
       "    }\n",
       "\n",
       "    .dataframe thead th {\n",
       "        text-align: right;\n",
       "    }\n",
       "</style>\n",
       "<table border=\"1\" class=\"dataframe\">\n",
       "  <thead>\n",
       "    <tr style=\"text-align: right;\">\n",
       "      <th></th>\n",
       "      <th>Size</th>\n",
       "      <th>Bedrooms</th>\n",
       "      <th>Price</th>\n",
       "    </tr>\n",
       "  </thead>\n",
       "  <tbody>\n",
       "    <tr>\n",
       "      <th>0</th>\n",
       "      <td>2104</td>\n",
       "      <td>3</td>\n",
       "      <td>399900</td>\n",
       "    </tr>\n",
       "    <tr>\n",
       "      <th>1</th>\n",
       "      <td>1600</td>\n",
       "      <td>3</td>\n",
       "      <td>329900</td>\n",
       "    </tr>\n",
       "    <tr>\n",
       "      <th>2</th>\n",
       "      <td>2400</td>\n",
       "      <td>3</td>\n",
       "      <td>369000</td>\n",
       "    </tr>\n",
       "    <tr>\n",
       "      <th>3</th>\n",
       "      <td>1416</td>\n",
       "      <td>2</td>\n",
       "      <td>232000</td>\n",
       "    </tr>\n",
       "    <tr>\n",
       "      <th>4</th>\n",
       "      <td>3000</td>\n",
       "      <td>4</td>\n",
       "      <td>539901</td>\n",
       "    </tr>\n",
       "    <tr>\n",
       "      <th>5</th>\n",
       "      <td>1985</td>\n",
       "      <td>4</td>\n",
       "      <td>299900</td>\n",
       "    </tr>\n",
       "    <tr>\n",
       "      <th>6</th>\n",
       "      <td>1534</td>\n",
       "      <td>3</td>\n",
       "      <td>314900</td>\n",
       "    </tr>\n",
       "    <tr>\n",
       "      <th>7</th>\n",
       "      <td>1427</td>\n",
       "      <td>3</td>\n",
       "      <td>198999</td>\n",
       "    </tr>\n",
       "    <tr>\n",
       "      <th>8</th>\n",
       "      <td>1380</td>\n",
       "      <td>3</td>\n",
       "      <td>212000</td>\n",
       "    </tr>\n",
       "    <tr>\n",
       "      <th>9</th>\n",
       "      <td>1494</td>\n",
       "      <td>3</td>\n",
       "      <td>242500</td>\n",
       "    </tr>\n",
       "  </tbody>\n",
       "</table>\n",
       "</div>"
      ],
      "text/plain": [
       "   Size  Bedrooms   Price\n",
       "0  2104         3  399900\n",
       "1  1600         3  329900\n",
       "2  2400         3  369000\n",
       "3  1416         2  232000\n",
       "4  3000         4  539901\n",
       "5  1985         4  299900\n",
       "6  1534         3  314900\n",
       "7  1427         3  198999\n",
       "8  1380         3  212000\n",
       "9  1494         3  242500"
      ]
     },
     "execution_count": 22,
     "metadata": {},
     "output_type": "execute_result"
    }
   ],
   "source": [
    "mv_data = pd.read_csv(multi_variable_data, header = None)\n",
    "mv_data.columns = [\"Size\", \"Bedrooms\", \"Price\"]\n",
    "mv_data.head(10)"
   ]
  },
  {
   "cell_type": "code",
   "execution_count": 12,
   "metadata": {},
   "outputs": [],
   "source": [
    "def data_normalize(data_col):\n",
    "    mean = np.mean(data_col)\n",
    "    std = np.nanstd(data_col)\n",
    "    \n",
    "    data_col = data_col - mean\n",
    "    data_col = data_col / std\n",
    "    return data_col, mean, std\n"
   ]
  },
  {
   "cell_type": "code",
   "execution_count": 13,
   "metadata": {},
   "outputs": [],
   "source": [
    "mv_data_norm = mv_data\n",
    "size_mean = 0\n",
    "size_std = 0\n",
    "mv_data_norm[\"Size\"], size_mean, size_std = data_normalize(mv_data[\"Size\"])\n",
    "\n",
    "price_mean = 0\n",
    "price_std = 0\n",
    "mv_data_norm[\"Price\"], price_mean, price_std = data_normalize(mv_data[\"Price\"])\n"
   ]
  },
  {
   "cell_type": "code",
   "execution_count": 14,
   "metadata": {},
   "outputs": [],
   "source": [
    "def gradientDecent(theta, X, Y, learning_rate, iterations):\n",
    "    m = Y.size\n",
    "    cost_history = []\n",
    "    \n",
    "    i = 0\n",
    "    while (i < iterations):\n",
    "        cost = (1/(2*m)) * (X.dot(theta) - Y).T.dot(X.dot(theta) - Y)\n",
    "        cost_history.append(cost[0][0])\n",
    "\n",
    "        prediction = X.dot(theta)\n",
    "        theta = theta - learning_rate*(1/m) * X.T.dot(prediction - Y)  \n",
    "\n",
    "        i += 1\n",
    "\n",
    "    return theta, cost_history"
   ]
  },
  {
   "cell_type": "code",
   "execution_count": 15,
   "metadata": {},
   "outputs": [
    {
     "name": "stdout",
     "output_type": "stream",
     "text": [
      "Thetas Info:\n",
      "Thetas shape: (3, 1)\n",
      "[[1.]\n",
      " [1.]\n",
      " [1.]]\n",
      "\n",
      "Y matrix sample:\n",
      "Shape: (47, 1)\n",
      "First 5 vals: \n",
      "[[ 0.48088992]\n",
      " [-0.08498353]\n",
      " [ 0.23109721]\n",
      " [-0.87639796]\n",
      " [ 1.6126449 ]]\n",
      "\n",
      "X matrix sample:\n",
      "Shape: (47, 3)\n",
      "First 5 rows: \n",
      "[[ 1.          0.13141542  3.        ]\n",
      " [ 1.         -0.5096407   3.        ]\n",
      " [ 1.          0.5079087   3.        ]\n",
      " [ 1.         -0.74367706  2.        ]\n",
      " [ 1.          1.27107075  4.        ]]\n"
     ]
    }
   ],
   "source": [
    "#init values\n",
    "\n",
    "theta = np.ones((3, 1))\n",
    "\n",
    "y_arr = np.array(mv_data_norm[\"Price\"])\n",
    "y_arr = y_arr.reshape(y_arr.size, 1)\n",
    "\n",
    "x_arr = np.array(mv_data_norm)\n",
    "x_arr = x_arr[::, :2:]\n",
    "x_arr = np.c_[np.ones(y_arr.size), x_arr]\n",
    "\n",
    "print(\"Thetas Info:\")\n",
    "print(\"Thetas shape: \" + str(theta.shape))\n",
    "print(theta)\n",
    "\n",
    "print(\"\\nY matrix sample:\")\n",
    "print(\"Shape: \" + str(y_arr.shape))\n",
    "print(\"First 5 vals: \")\n",
    "print(y_arr[:5])\n",
    "\n",
    "print(\"\\nX matrix sample:\")\n",
    "print(\"Shape: \" + str(x_arr.shape))\n",
    "print(\"First 5 rows: \")\n",
    "print(x_arr[:5])"
   ]
  },
  {
   "cell_type": "code",
   "execution_count": 25,
   "metadata": {},
   "outputs": [
    {
     "name": "stdout",
     "output_type": "stream",
     "text": [
      "Theta:\n",
      " [[ 0.22393495]\n",
      " [ 0.88476591]\n",
      " [-0.0706372 ]]\n",
      "Final Cost: 0.13352751093577928\n"
     ]
    },
    {
     "data": {
      "image/png": "[encoded data removed]",
      "text/plain": [
       "<Figure size 432x288 with 1 Axes>"
      ]
     },
     "metadata": {
      "needs_background": "light"
     },
     "output_type": "display_data"
    }
   ],
   "source": [
    "iterations = 1000000\n",
    "alpha = .15\n",
    "\n",
    "cost_history = []\n",
    "\n",
    "new_theta, cost_history = gradientDecent(theta, x_arr, y_arr, alpha, iterations)\n",
    "print(\"Theta:\\n \" + str(new_theta))\n",
    "print(\"Final Cost: \" + str(cost_history[-1]))\n",
    "\n",
    "plt.plot(range(iterations), cost_history)\n",
    "plt.show()"
   ]
  },
  {
   "cell_type": "code",
   "execution_count": 24,
   "metadata": {},
   "outputs": [
    {
     "name": "stdout",
     "output_type": "stream",
     "text": [
      "47\n",
      "100\n"
     ]
    },
    {
     "data": {
      "image/png": "[encoded data removed]",
      "text/plain": [
       "<Figure size 432x288 with 1 Axes>"
      ]
     },
     "metadata": {
      "needs_background": "light"
     },
     "output_type": "display_data"
    }
   ],
   "source": [
    "x1_test = np.linspace(mv_data_norm[\"Size\"].min(), mv_data_norm[\"Size\"].max(), 100)\n",
    "x2_test = np.linspace(mv_data_norm[\"Bedrooms\"].min(), mv_data_norm[\"Bedrooms\"].max(), 100)\n",
    "y_prediction = new_theta[0] + new_theta[1]*x1_test + new_theta[2]*x2_test\n",
    "\n",
    "\n",
    "ax = plt.axes(projection= \"3d\")\n",
    "ax.plot(x1_test,x2_test,y_prediction)\n",
    "print(np.size(mv_data_norm[\"Price\"]))\n",
    "print(y_prediction.size)\n",
    "ax.scatter(mv_data_norm[\"Size\"], mv_data_norm[\"Bedrooms\"], mv_data_norm[\"Price\"], marker= 'x', c= 'red')\n",
    "# ax.scatter(mv_data[\"Size\"], mv_data[\"Bedrooms\"], mv_data[\"Price\"], marker= 'x', c= 'red')\n",
    "ax.set_xlabel(\"Size\")\n",
    "ax.set_ylabel(\"Bedrooms\")\n",
    "ax.set_zlabel(\"Price\")\n",
    "ax.set_title(\"Normalized Linear Regression\")\n",
    "ax.view_init(elev= 20, azim= 260)"
   ]
  },
  {
   "cell_type": "code",
   "execution_count": 18,
   "metadata": {},
   "outputs": [
    {
     "data": {
      "text/plain": [
       "293081.47383519396"
      ]
     },
     "execution_count": 18,
     "metadata": {},
     "output_type": "execute_result"
    }
   ],
   "source": [
    "my_prediction = ((new_theta[0] + ((1650-size_mean)/size_std)*new_theta[1] + 3*new_theta[2])*price_std) + price_mean\n",
    "my_prediction[0]"
   ]
  },
  {
   "cell_type": "code",
   "execution_count": 19,
   "metadata": {},
   "outputs": [
    {
     "name": "stdout",
     "output_type": "stream",
     "text": [
      "[[ 0.22393495]\n",
      " [ 0.88476591]\n",
      " [-0.0706372 ]]\n"
     ]
    }
   ],
   "source": [
    "def normalEquation(X, Y):\n",
    "    theta = np.linalg.inv(X.T.dot(X)).dot(X.T.dot(Y))\n",
    "    return theta\n",
    "\n",
    "normal_theta = normalEquation(x_arr, y_arr)\n",
    "print(normal_theta)\n",
    "    "
   ]
  },
  {
   "cell_type": "code",
   "execution_count": 20,
   "metadata": {},
   "outputs": [
    {
     "data": {
      "text/plain": [
       "293081.4738351939"
      ]
     },
     "execution_count": 20,
     "metadata": {},
     "output_type": "execute_result"
    }
   ],
   "source": [
    "my_second_prediction = ((normal_theta[0] + ((1650-size_mean)/size_std)*normal_theta[1] + 3*normal_theta[2])*price_std) + price_mean\n",
    "my_second_prediction[0]"
   ]
  },
  {
   "cell_type": "code",
   "execution_count": null,
   "metadata": {},
   "outputs": [],
   "source": []
  }
 ],
 "metadata": {
  "interpreter": {
   "hash": "53df75c7fdd532bd6b4b9bbc549e02dfa4a0f99cff7c77bf319aef7222f5b560"
  },
  "kernelspec": {
   "display_name": "Python 3.9.2 64-bit",
   "name": "python3"
  },
  "language_info": {
   "codemirror_mode": {
    "name": "ipython",
    "version": 3
   },
   "file_extension": ".py",
   "mimetype": "text/x-python",
   "name": "python",
   "nbconvert_exporter": "python",
   "pygments_lexer": "ipython3",
   "version": "3.9.2"
  },
  "orig_nbformat": 4
 },
 "nbformat": 4,
 "nbformat_minor": 2
}
